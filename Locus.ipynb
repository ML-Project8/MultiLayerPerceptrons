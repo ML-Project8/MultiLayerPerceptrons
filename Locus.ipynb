{
 "cells": [
  {
   "cell_type": "code",
   "execution_count": null,
   "metadata": {
    "collapsed": true
   },
   "outputs": [],
   "source": []
  },
  {
   "cell_type": "markdown",
   "metadata": {},
   "source": [
    "## 1. Data"
   ]
  },
  {
   "cell_type": "markdown",
   "metadata": {},
   "source": [
    "[Don't Include] We using the Government pay dataset from the last lab \n",
    "\n",
    "- features: ['Age','Education','PayPlan', 'LOS', 'Category','Pay', 'SupervisoryStatus', 'Schedule', 'NSFTP', 'AgencyName']\n",
    "- prediction task: Pay (encoded by tax bracket)"
   ]
  },
  {
   "cell_type": "markdown",
   "metadata": {},
   "source": [
    "## 2. Evaluation"
   ]
  },
  {
   "cell_type": "markdown",
   "metadata": {},
   "source": [
    "#### 2.A. Choose and explain what metric(s) you will use to evaluate your algorithm’s generalization performance"
   ]
  },
  {
   "cell_type": "markdown",
   "metadata": {},
   "source": [
    "Generalizing modern society, we often make the assumption that those who have higher paying jobs must have achieved a higher level of education at some point in their lifetimes. For example, one might expect an employee who achieved a Masters degree to get paid more than an employee who only achieved a high school diploma. It is debated whether higher level degrees of education (Masters and Doctoral) are worthy investments in careers, fiscally speaking. We have elected to predict annual Pay, using a model based off of all the other factors in the dataset.\n",
    "\n",
    "\n",
    "When determining whether or not it would be fair to pay a certain amount to a new employee, or determining whether or not to increase or decreate an existing employee's pay might be an appropriate use of the data. \n",
    "The 2 major parties at stake might have something different to say about this:\n",
    "- The government might prefer a a model that estimates too low, resulting them in paying certain employees less\n",
    "- The government might prefer a model that estinates too high, resulting in the employees earning more money.\n",
    "\n",
    "When we try to achieve this goal, we believe that is is equally important to have less false positives and false negatives when comparing 2 classes. When training the model towards a high score, an f1 scoring function would prevent both false positives and false-negatives. The resulting f1 score is only directly useful in binary classification problems. In order to rank the score of our multi-class prediction problem, we must decide whether a micro or macro average of our scores will be more beneficial. Since we do have a large class-imbalance, we woule say that a macro average of the binary rankings is more beneficial than a micro average. If our largest class predictions were valid, but the smaller class predictions were not, a micro average woule ignore the incorrectly predicted smaller classes. Since we are predicting pay, we want to use a very principled philosiphy, we would say \"it is not fair for the largest class [of wage earners] to recieve the most bebeficial results, rather all income classes should be treated equally when their livelihood may be at stake.\" Oppositely, a utilitarial approack would do whatever is best for a majority of the class(es) with more members.\n",
    "\n",
    "Conclusion: We will be using an f1 scoring function for each class, then averaging those results using a macro sverage function that weights the results of each class equally. We will still look at/compare individual class scores, rather than only averaging them to rank the model."
   ]
  },
  {
   "cell_type": "code",
   "execution_count": null,
   "metadata": {
    "collapsed": true
   },
   "outputs": [],
   "source": []
  },
  {
   "cell_type": "code",
   "execution_count": null,
   "metadata": {
    "collapsed": true
   },
   "outputs": [],
   "source": []
  },
  {
   "cell_type": "code",
   "execution_count": null,
   "metadata": {
    "collapsed": true
   },
   "outputs": [],
   "source": []
  },
  {
   "cell_type": "code",
   "execution_count": null,
   "metadata": {
    "collapsed": true
   },
   "outputs": [],
   "source": []
  }
 ],
 "metadata": {
  "kernelspec": {
   "display_name": "Python 3",
   "language": "python",
   "name": "python3"
  },
  "language_info": {
   "codemirror_mode": {
    "name": "ipython",
    "version": 3
   },
   "file_extension": ".py",
   "mimetype": "text/x-python",
   "name": "python",
   "nbconvert_exporter": "python",
   "pygments_lexer": "ipython3",
   "version": "3.6.2"
  }
 },
 "nbformat": 4,
 "nbformat_minor": 2
}
